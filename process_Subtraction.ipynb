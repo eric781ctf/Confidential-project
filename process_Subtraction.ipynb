{
 "cells": [
  {
   "cell_type": "code",
   "execution_count": 1,
   "id": "official-massage",
   "metadata": {},
   "outputs": [],
   "source": [
    "import cv2\n",
    "import numpy as np\n",
    "import imutils"
   ]
  },
  {
   "cell_type": "code",
   "execution_count": 2,
   "id": "sacred-peter",
   "metadata": {},
   "outputs": [],
   "source": [
    "img1 = cv2.imread(\"./pic/warpPerspective/processed_1.jpg\",1)\n",
    "img2 = cv2.imread(\"./pic/warpPerspective/processed_2.jpg\",1)\n",
    "img3 = cv2.imread(\"./pic/warpPerspective/processed_3.jpg\",1)\n",
    "img4 = cv2.imread(\"./pic/warpPerspective/processed_4.jpg\",1)"
   ]
  },
  {
   "cell_type": "markdown",
   "id": "deadly-catalog",
   "metadata": {},
   "source": [
    "# 邊緣檢測"
   ]
  },
  {
   "cell_type": "code",
   "execution_count": 5,
   "id": "corresponding-statement",
   "metadata": {},
   "outputs": [
    {
     "data": {
      "text/plain": [
       "-1"
      ]
     },
     "execution_count": 5,
     "metadata": {},
     "output_type": "execute_result"
    }
   ],
   "source": [
    "kernel = kernel = np.array([[-1, -1, -1], [-1, 8, -1], [-1, -1, -1]])\n",
    "result = cv2.filter2D(img4, -1, kernel)\n",
    "\n",
    "#result = cv2.filter2D(img1, dst=-1, kernel=kernel, anchor=(-1, -1), delta=0, borderType=cv2.BORDER_DEFAULT,ddepth=1)\n",
    "\n",
    "cv2.imshow(\"Filter\", result)\n",
    "cv2.imshow(\"Original\", img4)\n",
    "cv2.imwrite(\"./pic/edge_detection_4.jpg\",result)\n",
    "cv2.waitKey(0)"
   ]
  },
  {
   "cell_type": "markdown",
   "id": "supported-ancient",
   "metadata": {},
   "source": [
    "# 圖像減法  Subtraction"
   ]
  },
  {
   "cell_type": "code",
   "execution_count": 6,
   "id": "essential-protest",
   "metadata": {},
   "outputs": [
    {
     "data": {
      "text/plain": [
       "-1"
      ]
     },
     "execution_count": 6,
     "metadata": {},
     "output_type": "execute_result"
    }
   ],
   "source": [
    "result = cv2.absdiff(img1,img4)\n",
    "\n",
    "cv2.imshow(\"Result\",result)\n",
    "cv2.imwrite(\"./pic/Subtraction/subtraction_4-1.jpg\",result)\n",
    "cv2.waitKey(0)"
   ]
  },
  {
   "cell_type": "code",
   "execution_count": null,
   "id": "round-injury",
   "metadata": {},
   "outputs": [],
   "source": []
  },
  {
   "cell_type": "code",
   "execution_count": null,
   "id": "sapphire-chicken",
   "metadata": {},
   "outputs": [],
   "source": []
  },
  {
   "cell_type": "code",
   "execution_count": null,
   "id": "retained-fever",
   "metadata": {},
   "outputs": [],
   "source": []
  },
  {
   "cell_type": "code",
   "execution_count": null,
   "id": "eight-delhi",
   "metadata": {},
   "outputs": [],
   "source": []
  }
 ],
 "metadata": {
  "kernelspec": {
   "display_name": "Python 3",
   "language": "python",
   "name": "python3"
  },
  "language_info": {
   "codemirror_mode": {
    "name": "ipython",
    "version": 3
   },
   "file_extension": ".py",
   "mimetype": "text/x-python",
   "name": "python",
   "nbconvert_exporter": "python",
   "pygments_lexer": "ipython3",
   "version": "3.7.9"
  }
 },
 "nbformat": 4,
 "nbformat_minor": 5
}
