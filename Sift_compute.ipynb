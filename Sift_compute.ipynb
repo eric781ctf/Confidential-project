{
 "cells": [
  {
   "cell_type": "markdown",
   "id": "intimate-discharge",
   "metadata": {},
   "source": [
    "# Import the module first"
   ]
  },
  {
   "cell_type": "code",
   "execution_count": 1,
   "id": "accredited-college",
   "metadata": {},
   "outputs": [],
   "source": [
    "import cv2\n",
    "import numpy as np\n",
    "import math\n",
    "import imutils\n",
    "from PIL import Image"
   ]
  },
  {
   "cell_type": "markdown",
   "id": "upset-hazard",
   "metadata": {},
   "source": [
    "# Method"
   ]
  },
  {
   "cell_type": "code",
   "execution_count": 2,
   "id": "through-current",
   "metadata": {},
   "outputs": [],
   "source": [
    "def take_points(im):\n",
    "    print(type(im))\n",
    "    # 建立 data dict, img:存放圖片, points:存放點\n",
    "    data = {}\n",
    "    data['img'] = im.copy()\n",
    "    data['x']=[]\n",
    "    data['y']=[]\n",
    "\n",
    "    # 建立一個 window\n",
    "    cv2.namedWindow(\"Image\", 0)\n",
    "\n",
    "    # 改變 window 成為適當圖片大小\n",
    "    h, w, dim = im.shape\n",
    "    print(\"Img height, width: ({}, {})\".format(h, w))\n",
    "    cv2.resizeWindow(\"Image\", w, h)\n",
    "\n",
    "    # 顯示圖片在 window 中\n",
    "    cv2.imshow('Image',im)\n",
    "\n",
    "    # 利用滑鼠回傳值，資料皆保存於 data dict中\n",
    "    cv2.setMouseCallback(\"Image\", mouse_handler, data)\n",
    "\n",
    "    # 等待按下任意鍵，藉由 OpenCV 內建函數釋放資源\n",
    "    cv2.waitKey()\n",
    "    cv2.destroyAllWindows()\n",
    "\n",
    "    # 回傳點 list\n",
    "    return data['x'],data[\"y\"]\n",
    "\n",
    "def mouse_handler(event, x, y, flags, data):\n",
    "    if event == cv2.EVENT_LBUTTONDOWN:\n",
    "        # 標記點位置\n",
    "        cv2.circle(data[\"img\"], (x,y), 3, (0,0,255), 5, 16) \n",
    "\n",
    "        # 改變顯示 window 的內容\n",
    "        cv2.imshow(\"Image\", data[\"img\"])\n",
    "        \n",
    "        # 顯示 (x,y) 並儲存到 list中\n",
    "        #print(\"get points: (x, y) = ({}, {})\".format(x, y))\n",
    "        data['x'].append(x)\n",
    "        data['y'].append(y)"
   ]
  },
  {
   "cell_type": "markdown",
   "id": "technical-winter",
   "metadata": {},
   "source": [
    "# Choose the points for processed_1.jpg"
   ]
  },
  {
   "cell_type": "code",
   "execution_count": 3,
   "id": "structured-journalism",
   "metadata": {},
   "outputs": [
    {
     "name": "stdout",
     "output_type": "stream",
     "text": [
      "(43.0, 43.0)\n",
      "Click on the screen and press any key for end process\n",
      "<class 'numpy.ndarray'>\n",
      "Img height, width: (900, 400)\n",
      "Total:  66\n"
     ]
    }
   ],
   "source": [
    "keypoints=[]\n",
    "keypoints.append(cv2.KeyPoint(x=43,y=43\n",
    "                , _size=80\n",
    "                , _angle=0\n",
    "                , _response=0\n",
    "                , _octave=0\n",
    "                , _class_id=-1))\n",
    "print(keypoints[0].pt)\n",
    "\n",
    "\n",
    "# Point all the points by clicking mouse and left by pressing english keyboard\n",
    "img_dst = cv2.imread(\"./pic/warpPerspective/processed_1.jpg\")\n",
    "print(\"Click on the screen and press any key for end process\")\n",
    "x_pt,y_pt = take_points(img_dst)\n",
    "print(\"Total: \",len(x_pt))"
   ]
  },
  {
   "cell_type": "code",
   "execution_count": 5,
   "id": "amber-shelf",
   "metadata": {},
   "outputs": [
    {
     "name": "stdout",
     "output_type": "stream",
     "text": [
      "<class 'numpy.ndarray'>\n",
      "(1, 128)\n",
      "Finish successfully\n"
     ]
    }
   ],
   "source": [
    "img = cv2.imread(\"./pic/warpPerspective/processed_1.jpg\")\n",
    "print(type(img))\n",
    "w=80\n",
    "h=80\n",
    "#25*9 points = 225\n",
    "Des_list = [0]*len(x_pt)\n",
    "\n",
    "for num in range(len(x_pt)):\n",
    "    # set the init point for cutting\n",
    "    X = x_pt[num]-40\n",
    "    Y = y_pt[num]-40\n",
    "    \n",
    "    crop_img = img[Y:Y+h, X:X+w]\n",
    "    \n",
    "    gray_image = cv2.cvtColor(crop_img, cv2.COLOR_BGR2GRAY)\n",
    "    sift = cv2.xfeatures2d.SIFT_create(nfeatures = 10, contrastThreshold = 0.05,edgeThreshold=436,sigma=0.6)\n",
    "    \n",
    "    kp,des2 = sift.compute(gray_image,keypoints)\n",
    "    \n",
    "    Des_list[num] = des2\n",
    "    \n",
    "    #Save and see the pic after crop and sift compute\n",
    "    #cv2.drawKeypoints(gray_image, kp, crop_img, flags=cv2.DRAW_MATCHES_FLAGS_DRAW_RICH_KEYPOINTS)\n",
    "    #cv2.imwrite('./pic/sift/crop_1_'+str(num)+'.jpg', crop_img)\n",
    "\n",
    "\n",
    "print(Des_list[0].shape)\n",
    "\n",
    "if len(x_pt) == len(Des_list):\n",
    "    #Save the description\n",
    "    np.savez('./Description/processed_1_Description', Des_list)\n",
    "    print(\"Finish successfully\")\n",
    "else:\n",
    "    print(\"There might be something wrong!!!\")\n",
    "    print(\"It should be \",len(x_pt),\" points of description\")\n",
    "    print(\"The total of Description:\",len(Des_list))"
   ]
  },
  {
   "cell_type": "code",
   "execution_count": 7,
   "id": "healthy-premium",
   "metadata": {},
   "outputs": [
    {
     "name": "stdout",
     "output_type": "stream",
     "text": [
      "57.445625\n"
     ]
    }
   ],
   "source": [
    "a = Des_list[0]\n",
    "b = Des_list[1]\n",
    "\n",
    "dist = np.linalg.norm(a-b)\n",
    "print(dist)"
   ]
  },
  {
   "cell_type": "code",
   "execution_count": 6,
   "id": "attended-cover",
   "metadata": {},
   "outputs": [
    {
     "name": "stdout",
     "output_type": "stream",
     "text": [
      "['arr_0']\n",
      "66\n",
      "(66, 1, 128)\n",
      "--------\n",
      "<class 'numpy.ndarray'>\n",
      "(66, 1, 128)\n"
     ]
    }
   ],
   "source": [
    "# Check the num of the data by reading again\n",
    "data = np.load(\"./Description/processed_1_Description.npz\")\n",
    "print(data.files)\n",
    "print(len(data[\"arr_0\"]))\n",
    "print(data[\"arr_0\"].shape)\n",
    "x = data[\"arr_0\"]\n",
    "print(\"--------\")\n",
    "print(type(x))\n",
    "print(x.shape)"
   ]
  },
  {
   "cell_type": "markdown",
   "id": "blond-blackberry",
   "metadata": {},
   "source": [
    "# Choose the points for processed_2.jpg"
   ]
  },
  {
   "cell_type": "code",
   "execution_count": 15,
   "id": "saving-upgrade",
   "metadata": {},
   "outputs": [
    {
     "name": "stdout",
     "output_type": "stream",
     "text": [
      "(43.0, 43.0)\n",
      "Click on the screen and press any key for end process\n",
      "<class 'numpy.ndarray'>\n",
      "Img height, width: (900, 400)\n",
      "Total:  3\n"
     ]
    }
   ],
   "source": [
    "keypoints=[]\n",
    "keypoints.append(cv2.KeyPoint(x=43,y=43\n",
    "                , _size=80\n",
    "                , _angle=0\n",
    "                , _response=0\n",
    "                , _octave=0\n",
    "                , _class_id=-1))\n",
    "print(keypoints[0].pt)\n",
    "\n",
    "\n",
    "# Point all the points by clicking mouse and left by pressing english keyboard\n",
    "img_dst = cv2.imread(\"./pic/warpPerspective/processed_2.jpg\")\n",
    "print(\"Click on the screen and press any key for end process\")\n",
    "x_pt,y_pt = take_points(img_dst)\n",
    "print(\"Total: \",len(x_pt))"
   ]
  },
  {
   "cell_type": "code",
   "execution_count": 16,
   "id": "editorial-freight",
   "metadata": {},
   "outputs": [
    {
     "name": "stdout",
     "output_type": "stream",
     "text": [
      "<class 'numpy.ndarray'>\n"
     ]
    },
    {
     "data": {
      "text/plain": [
       "'\\nprint(Des_list[0].shape)\\n\\nif len(x_pt) == len(Des_list):\\n    #Save the description\\n    np.savez(\\'./Description/processed_1_Description\\', Des_list)\\n    print(\"Finish successfully\")\\nelse:\\n    print(\"There might be something wrong!!!\")\\n    print(\"It should be \",len(x_pt),\" points of description\")\\n    print(\"The total of Description:\",len(Des_list))\\n'"
      ]
     },
     "execution_count": 16,
     "metadata": {},
     "output_type": "execute_result"
    }
   ],
   "source": [
    "img = cv2.imread(\"./pic/warpPerspective/processed_2.jpg\")\n",
    "print(type(img))\n",
    "w=80\n",
    "h=80\n",
    "#25*9 points = 225\n",
    "Des_list = [0]*len(x_pt)\n",
    "\n",
    "for num in range(len(x_pt)):\n",
    "    # set the init point for cutting\n",
    "    X = x_pt[num]-40\n",
    "    Y = y_pt[num]-40\n",
    "    \n",
    "    crop_img = img[Y:Y+h, X:X+w]\n",
    "    \n",
    "    gray_image = cv2.cvtColor(crop_img, cv2.COLOR_BGR2GRAY)\n",
    "    sift = cv2.xfeatures2d.SIFT_create(nfeatures = 10, contrastThreshold = 0.05,edgeThreshold=436,sigma=0.6)\n",
    "    \n",
    "    kp,des2 = sift.compute(gray_image,keypoints)\n",
    "    \n",
    "    Des_list[num] = des2\n",
    "    \n",
    "    #Save and see the pic after crop and sift compute\n",
    "    cv2.drawKeypoints(gray_image, kp, crop_img, flags=cv2.DRAW_MATCHES_FLAGS_DRAW_RICH_KEYPOINTS)\n",
    "    cv2.imwrite('./pic/sift/crop_2_'+str(num)+'.jpg', crop_img)\n",
    "\n",
    "'''\n",
    "print(Des_list[0].shape)\n",
    "\n",
    "if len(x_pt) == len(Des_list):\n",
    "    #Save the description\n",
    "    np.savez('./Description/processed_2_Description', Des_list)\n",
    "    print(\"Finish successfully\")\n",
    "else:\n",
    "    print(\"There might be something wrong!!!\")\n",
    "    print(\"It should be \",len(x_pt),\" points of description\")\n",
    "    print(\"The total of Description:\",len(Des_list))\n",
    "'''"
   ]
  },
  {
   "cell_type": "code",
   "execution_count": null,
   "id": "dying-picking",
   "metadata": {},
   "outputs": [],
   "source": [
    "# Check the num of the data by reading again\n",
    "data = np.load(\"./Description/processed_2_Description.npz\")\n",
    "print(data.files)\n",
    "print(len(data[\"arr_0\"]))"
   ]
  },
  {
   "cell_type": "markdown",
   "id": "sunset-disco",
   "metadata": {},
   "source": [
    "# Choose the points for processed_4.jpg"
   ]
  },
  {
   "cell_type": "code",
   "execution_count": 3,
   "id": "stylish-recognition",
   "metadata": {},
   "outputs": [
    {
     "name": "stdout",
     "output_type": "stream",
     "text": [
      "(43.0, 43.0)\n",
      "Click on the screen and press any key for end process\n",
      "<class 'numpy.ndarray'>\n",
      "Img height, width: (900, 400)\n",
      "Total:  1\n"
     ]
    }
   ],
   "source": [
    "keypoints=[]\n",
    "keypoints.append(cv2.KeyPoint(x=43,y=43\n",
    "                , _size=80\n",
    "                , _angle=0\n",
    "                , _response=0\n",
    "                , _octave=0\n",
    "                , _class_id=-1))\n",
    "print(keypoints[0].pt)\n",
    "\n",
    "\n",
    "# Point all the points by clicking mouse and left by pressing english keyboard\n",
    "img_dst = cv2.imread(\"./pic/warpPerspective/processed_4.jpg\")\n",
    "print(\"Click on the screen and press any key for end process\")\n",
    "x_pt,y_pt = take_points(img_dst)\n",
    "print(\"Total: \",len(x_pt))"
   ]
  },
  {
   "cell_type": "code",
   "execution_count": 4,
   "id": "hollywood-services",
   "metadata": {},
   "outputs": [
    {
     "name": "stdout",
     "output_type": "stream",
     "text": [
      "<class 'numpy.ndarray'>\n"
     ]
    },
    {
     "data": {
      "text/plain": [
       "'\\nprint(Des_list[0].shape)\\n\\nif len(x_pt) == len(Des_list):\\n    #Save the description\\n    np.savez(\\'./Description/processed_4_Description\\', Des_list)\\n    print(\"Finish successfully\")\\nelse:\\n    print(\"There might be something wrong!!!\")\\n    print(\"It should be \",len(x_pt),\" points of description\")\\n    print(\"The total of Description:\",len(Des_list))\\n'"
      ]
     },
     "execution_count": 4,
     "metadata": {},
     "output_type": "execute_result"
    }
   ],
   "source": [
    "img = cv2.imread(\"./pic/warpPerspective/processed_4.jpg\")\n",
    "print(type(img))\n",
    "w=80\n",
    "h=80\n",
    "#25*9 points = 225\n",
    "Des_list = [0]*len(x_pt)\n",
    "\n",
    "for num in range(len(x_pt)):\n",
    "    # set the init point for cutting\n",
    "    X = x_pt[num]-40\n",
    "    Y = y_pt[num]-40\n",
    "    \n",
    "    crop_img = img[Y:Y+h, X:X+w]\n",
    "    \n",
    "    gray_image = cv2.cvtColor(crop_img, cv2.COLOR_BGR2GRAY)\n",
    "    sift = cv2.xfeatures2d.SIFT_create(nfeatures = 10, contrastThreshold = 0.05,edgeThreshold=436,sigma=0.6)\n",
    "    \n",
    "    kp,des2 = sift.compute(gray_image,keypoints)\n",
    "    \n",
    "    Des_list[num] = des2\n",
    "    \n",
    "    #Save and see the pic after crop and sift compute\n",
    "    cv2.drawKeypoints(gray_image, kp, crop_img, flags=cv2.DRAW_MATCHES_FLAGS_DRAW_RICH_KEYPOINTS)\n",
    "    cv2.imwrite('./pic/sift/crop_4_'+str(num)+'.jpg', crop_img)\n",
    "\n",
    "'''\n",
    "print(Des_list[0].shape)\n",
    "\n",
    "if len(x_pt) == len(Des_list):\n",
    "    #Save the description\n",
    "    np.savez('./Description/processed_4_Description', Des_list)\n",
    "    print(\"Finish successfully\")\n",
    "else:\n",
    "    print(\"There might be something wrong!!!\")\n",
    "    print(\"It should be \",len(x_pt),\" points of description\")\n",
    "    print(\"The total of Description:\",len(Des_list))\n",
    "'''"
   ]
  },
  {
   "cell_type": "code",
   "execution_count": null,
   "id": "fabulous-russia",
   "metadata": {},
   "outputs": [],
   "source": [
    "# Check the num of the data by reading again\n",
    "data = np.load(\"./Description/processed_4_Description.npz\")\n",
    "print(data.files)\n",
    "print(len(data[\"arr_0\"]))"
   ]
  },
  {
   "cell_type": "code",
   "execution_count": null,
   "id": "legitimate-liechtenstein",
   "metadata": {},
   "outputs": [],
   "source": []
  },
  {
   "cell_type": "code",
   "execution_count": null,
   "id": "fatal-progress",
   "metadata": {},
   "outputs": [],
   "source": []
  },
  {
   "cell_type": "markdown",
   "id": "adaptive-fitting",
   "metadata": {},
   "source": [
    "# List the description"
   ]
  },
  {
   "cell_type": "code",
   "execution_count": 34,
   "id": "modern-banana",
   "metadata": {},
   "outputs": [
    {
     "name": "stdout",
     "output_type": "stream",
     "text": [
      "Description\n",
      "Shape of the description :  1 * 128\n",
      "[  0.   0.   0.   0.   0.   0.   0.   0.   0.   0.   0.   0.   0.   0.\n",
      "   0.   0.   0.   0.   0.   0.   0.   0.   0.   0.   0.   0.   0.   0.\n",
      "   0.   0.   0.   0.   0.   0.   0.   0.   0.   0.   0.   0. 121.  72.\n",
      " 121.  98. 121.  86. 121. 121. 111.  56. 121.  61.  91.  69. 121. 107.\n",
      "   0.   0.   0.   0.   0.   0.   0.   0.   0.   0.   0.   0.   0.   0.\n",
      "   0.   0. 116.  53.  90.  58. 100.  52. 120. 110.  68.  31.  53.  30.\n",
      "  50.  42.  94.  69.   0.   0.   0.   0.   0.   0.   0.   0.   0.   0.\n",
      "   0.   0.   0.   0.   0.   0.   0.   0.   0.   0.   0.   0.   0.   0.\n",
      "   0.   0.   0.   0.   0.   0.   0.   0.   0.   0.   0.   0.   0.   0.\n",
      "   0.   0.]\n",
      "<class 'numpy.float32'>\n"
     ]
    }
   ],
   "source": [
    "print(\"Description\")\n",
    "print(\"Shape of the description : \",len(des2),\"*\",len(des2[0]))\n",
    "print(des2[0])\n",
    "print(type(des2[0][0]))"
   ]
  },
  {
   "cell_type": "code",
   "execution_count": 5,
   "id": "informative-assist",
   "metadata": {},
   "outputs": [
    {
     "name": "stdout",
     "output_type": "stream",
     "text": [
      "17\n",
      "(12, 12)\n"
     ]
    }
   ],
   "source": [
    "for num in range(len(Des_list)):\n",
    "    a = Des_list[num]\n",
    "    a = np.pad(a, (0,16), 'constant', constant_values=(0,0))\n",
    "    print(len(a))\n",
    "\n",
    "    a = np.resize(a,(12,12))\n",
    "    print(a.shape)\n",
    "    image = Image.fromarray(a).convert(\"L\")# L為模式\n",
    "    image.show()\n",
    "    image.save(\"out_\"+str(num)+\".jpg\")#輸出圖片格式可以自己選擇"
   ]
  },
  {
   "cell_type": "code",
   "execution_count": 51,
   "id": "earned-coating",
   "metadata": {},
   "outputs": [
    {
     "name": "stdout",
     "output_type": "stream",
     "text": [
      "17\n",
      "(12, 12)\n"
     ]
    },
    {
     "data": {
      "image/png": "[encoded data removed]",
      "text/plain": [
       "<PIL.Image.Image image mode=L size=12x12 at 0x294B8AE9BC8>"
      ]
     },
     "metadata": {},
     "output_type": "display_data"
    }
   ],
   "source": [
    "a = Des_list[0]\n",
    "a = np.pad(a, (0,16), 'constant', constant_values=(0,0))\n",
    "print(len(a))\n",
    "\n",
    "a = np.resize(a,(12,12))\n",
    "print(a.shape)\n",
    "image = Image.fromarray(a).convert(\"L\")# L為模式\n",
    "display(image)"
   ]
  },
  {
   "cell_type": "code",
   "execution_count": 53,
   "id": "encouraging-difficulty",
   "metadata": {},
   "outputs": [],
   "source": [
    "def sharpen(img, sigma=100):    \n",
    "    # sigma = 5、15、25\n",
    "    blur_img = cv2.GaussianBlur(img, (0, 0), sigma)\n",
    "    usm = cv2.addWeighted(img, 1.5, blur_img, -0.5, 0)\n",
    "\n",
    "    return usm"
   ]
  },
  {
   "cell_type": "code",
   "execution_count": 54,
   "id": "actual-glory",
   "metadata": {},
   "outputs": [
    {
     "data": {
      "text/plain": [
       "True"
      ]
     },
     "execution_count": 54,
     "metadata": {},
     "output_type": "execute_result"
    }
   ],
   "source": [
    "import cv2 \n",
    "import numpy as np\n",
    "\n",
    "# 讀取圖片\n",
    "img = cv2.imread('out_1.jpg')\n",
    "\n",
    "# 修改大小\n",
    "img = cv2.resize(img, (120, 120))  # 將大小修改成250*250\n",
    "img = sharpen(img)\n",
    "\n",
    "# 儲存圖片\n",
    "cv2.imwrite('resize.jpg', img)"
   ]
  }
 ],
 "metadata": {
  "kernelspec": {
   "display_name": "Python 3",
   "language": "python",
   "name": "python3"
  },
  "language_info": {
   "codemirror_mode": {
    "name": "ipython",
    "version": 3
   },
   "file_extension": ".py",
   "mimetype": "text/x-python",
   "name": "python",
   "nbconvert_exporter": "python",
   "pygments_lexer": "ipython3",
   "version": "3.7.9"
  }
 },
 "nbformat": 4,
 "nbformat_minor": 5
}
