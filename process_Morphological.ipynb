{
 "cells": [
  {
   "cell_type": "code",
   "execution_count": 1,
   "id": "czech-adjustment",
   "metadata": {},
   "outputs": [],
   "source": [
    "import cv2\n",
    "import numpy as np\n",
    "import imutils"
   ]
  },
  {
   "cell_type": "code",
   "execution_count": 3,
   "id": "technical-importance",
   "metadata": {},
   "outputs": [],
   "source": [
    "img1 = cv2.imread(\"./pic/Subtraction/subtraction_4-1.jpg\",1)\n",
    "img2 = cv2.imread(\"./pic/Subtraction/subtraction_4-2.jpg\",1)\n",
    "img3 = cv2.imread(\"./pic/Subtraction/subtraction_4-3.jpg\",1)"
   ]
  },
  {
   "cell_type": "markdown",
   "id": "protective-wagon",
   "metadata": {},
   "source": [
    "# Erosion 影像侵蝕"
   ]
  },
  {
   "cell_type": "code",
   "execution_count": 18,
   "id": "animated-duplicate",
   "metadata": {},
   "outputs": [
    {
     "data": {
      "text/plain": [
       "-1"
      ]
     },
     "execution_count": 18,
     "metadata": {},
     "output_type": "execute_result"
    }
   ],
   "source": [
    "kernel = np.ones((2,2),np.uint8)\n",
    "erosion = cv2.erode(img3, kernel, iterations = 1)\n",
    "\n",
    "cv2.imshow(\"Input\",img3)\n",
    "cv2.imshow(\"Result\", erosion)\n",
    "cv2.imwrite(\"./pic/Erosion/erosion_4-3.jpg\",erosion)\n",
    "cv2.waitKey(0)"
   ]
  },
  {
   "cell_type": "markdown",
   "id": "former-grill",
   "metadata": {},
   "source": [
    "# Dilation 影像膨脹"
   ]
  },
  {
   "cell_type": "code",
   "execution_count": 20,
   "id": "applied-religious",
   "metadata": {},
   "outputs": [
    {
     "data": {
      "text/plain": [
       "-1"
      ]
     },
     "execution_count": 20,
     "metadata": {},
     "output_type": "execute_result"
    }
   ],
   "source": [
    "erosion_img = cv2.imread(\"./pic/Erosion/erosion_4-3.jpg\",0)\n",
    "kernel = kernel = np.ones((1,1),np.uint8)\n",
    "dilation = cv2.dilate(erosion_img, kernel, iterations =1)\n",
    "\n",
    "cv2.imshow(\"Input\",img1)\n",
    "cv2.imshow(\"Result\", dilation)\n",
    "cv2.imwrite(\"./pic/Dilation/dilation_4-3.jpg\",dilation)\n",
    "cv2.waitKey(0)"
   ]
  },
  {
   "cell_type": "code",
   "execution_count": null,
   "id": "reliable-crisis",
   "metadata": {},
   "outputs": [],
   "source": []
  }
 ],
 "metadata": {
  "kernelspec": {
   "display_name": "Python 3",
   "language": "python",
   "name": "python3"
  },
  "language_info": {
   "codemirror_mode": {
    "name": "ipython",
    "version": 3
   },
   "file_extension": ".py",
   "mimetype": "text/x-python",
   "name": "python",
   "nbconvert_exporter": "python",
   "pygments_lexer": "ipython3",
   "version": "3.7.9"
  }
 },
 "nbformat": 4,
 "nbformat_minor": 5
}
