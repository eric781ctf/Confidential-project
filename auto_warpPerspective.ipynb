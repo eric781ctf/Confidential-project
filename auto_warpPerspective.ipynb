{
 "cells": [
  {
   "cell_type": "code",
   "execution_count": 1,
   "metadata": {},
   "outputs": [],
   "source": [
    "import cv2\n",
    "import numpy as np\n",
    "import math\n",
    "import imutils"
   ]
  },
  {
   "cell_type": "code",
   "execution_count": 2,
   "metadata": {},
   "outputs": [],
   "source": [
    "def Img_Outline(input_dir):\n",
    "    original_img = cv2.imread(input_dir)\n",
    "    gray_image = cv2.cvtColor(original_img, cv2.COLOR_BGR2GRAY)\n",
    "    blurred = cv2.GaussianBlur(gray_image, (1,1), 0)    #高斯模糊降噪\n",
    "    _, RedThresh = cv2.threshold(blurred, 110, 255, cv2.THRESH_BINARY) #設定門檻值\n",
    "    kernel = cv2.getStructuringElement(cv2.MORPH_RECT, (1,1))\n",
    "    closed = cv2.morphologyEx(RedThresh, cv2.MORPH_CLOSE, kernel)\n",
    "    opened = cv2.morphologyEx(closed, cv2.MORPH_OPEN, kernel)\n",
    "    return original_img, gray_image, RedThresh, closed, opened"
   ]
  },
  {
   "cell_type": "code",
   "execution_count": 3,
   "metadata": {},
   "outputs": [],
   "source": [
    "def findContours_img(original_img, opened):\n",
    "    contours, hierarchy = cv2.findContours(opened, cv2.RETR_TREE, cv2.CHAIN_APPROX_SIMPLE)\n",
    "    \n",
    "    draw_img = original_img.copy()\n",
    "    cv2.drawContours(draw_img, contours, -1, (255,0,0), 2)\n",
    "    \n",
    "    #cv2.imshow(\"draw_img\",draw_img)\n",
    "    #cv2.waitKey(0)\n",
    "    \n",
    "    cnt_len = cv2.arcLength(contours[0], True)\n",
    "    box = cv2.approxPolyDP(contours[0], 0.02 * cnt_len, True)\n",
    "    print(len(box))\n",
    "    if len(box) == 4:\n",
    "        print(\"In\")\n",
    "        cv2.drawContours(draw_img, [box], -1, (255,255,0), 3)\n",
    "    \n",
    "    '''\n",
    "    print(\"box[0]:\",box[0])\n",
    "    print(\"box[1]:\",box[1])\n",
    "    print(\"box[2]:\",box[2])\n",
    "    print(\"box[3]:\",box[3])\n",
    "    \n",
    "    box_after = [0]*4\n",
    "    box_after[0] = box[0]\n",
    "    box_after[1] = box[1]\n",
    "    box_after[2] = box[2]\n",
    "    box_after[3] = box[3]\n",
    "    \n",
    "    print(\"box_after[0]:\",box_after[0])\n",
    "    print(\"box_after[1]:\",box_after[1])\n",
    "    print(\"box_after[2]:\",box_after[2])\n",
    "    print(\"box_after[3]:\",box_after[3])\n",
    "    box_after,\n",
    "    '''\n",
    "    return draw_img"
   ]
  },
  {
   "cell_type": "code",
   "execution_count": 4,
   "metadata": {},
   "outputs": [],
   "source": [
    "def Perpective_transform(box,original_img):\n",
    "    Rotated_size_W = 400\n",
    "    Rotated_size_H = 900\n",
    "    pts1 = np.float32([box[0], box[1], box[2], box[3]])\n",
    "    pts2 = np.float32([[0,0], [Rotated_size_W,0], [0,Rotated_size_H], [Rotated_size_W,Rotated_size_H]])\n",
    "    M = cv2.getPerspectiveTransform(pts1,pts2)\n",
    "    result_img = cv2.warpPerspective(original_img, M, (Rotated_size_W,Rotated_size_H))\n",
    "    \n",
    "    return result_img"
   ]
  },
  {
   "cell_type": "code",
   "execution_count": 32,
   "metadata": {},
   "outputs": [
    {
     "name": "stdout",
     "output_type": "stream",
     "text": [
      "1\n"
     ]
    },
    {
     "data": {
      "text/plain": [
       "'\\ncv2.imshow(\"original\",original_img)\\ncv2.imshow(\"gray\",gray_img)\\ncv2.imshow(\"closed\",closed)\\ncv2.imshow(\"opened\",opened)\\ncv2.imshow(\"draw_img\",draw_img)\\ncv2.imshow(\"result_img\",result_img)\\n\\ncv2.waitKey(0)\\n'"
      ]
     },
     "execution_count": 32,
     "metadata": {},
     "output_type": "execute_result"
    }
   ],
   "source": [
    "input_dir = \"./pic/Original/4.jpg\"\n",
    "original_img, gray_img, RedThresh, closed, opened = Img_Outline(input_dir)\n",
    "#box, \n",
    "draw_img = findContours_img(original_img,opened)\n",
    "cv2.imwrite(\"./pic/auto_warp/RETR_TREE_4.jpg\",draw_img)\n",
    "#result_img = Perpective_transform(box,original_img)\n",
    "'''\n",
    "cv2.imshow(\"original\",original_img)\n",
    "cv2.imshow(\"gray\",gray_img)\n",
    "cv2.imshow(\"closed\",closed)\n",
    "cv2.imshow(\"opened\",opened)\n",
    "cv2.imshow(\"draw_img\",draw_img)\n",
    "cv2.imshow(\"result_img\",result_img)\n",
    "\n",
    "cv2.waitKey(0)\n",
    "'''"
   ]
  },
  {
   "cell_type": "code",
   "execution_count": 5,
   "metadata": {},
   "outputs": [
    {
     "name": "stdout",
     "output_type": "stream",
     "text": [
      "<class 'numpy.ndarray'>\n"
     ]
    }
   ],
   "source": [
    "input_dir = \"./pic/Original/4.jpg\"\n",
    "original_img = cv2.imread(input_dir)\n",
    "print(type(original_img))"
   ]
  }
 ],
 "metadata": {
  "kernelspec": {
   "display_name": "Python 3",
   "language": "python",
   "name": "python3"
  },
  "language_info": {
   "codemirror_mode": {
    "name": "ipython",
    "version": 3
   },
   "file_extension": ".py",
   "mimetype": "text/x-python",
   "name": "python",
   "nbconvert_exporter": "python",
   "pygments_lexer": "ipython3",
   "version": "3.8.1"
  }
 },
 "nbformat": 4,
 "nbformat_minor": 5
}
